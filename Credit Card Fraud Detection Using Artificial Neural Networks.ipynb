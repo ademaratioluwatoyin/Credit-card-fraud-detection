{
 "cells": [
  {
   "cell_type": "code",
   "execution_count": 2,
   "id": "0efdd547",
   "metadata": {},
   "outputs": [
    {
     "name": "stdout",
     "output_type": "stream",
     "text": [
      "Collecting tensorflow\n",
      "  Downloading tensorflow-2.11.0-cp39-cp39-macosx_10_14_x86_64.whl (244.3 MB)\n",
      "\u001b[2K     \u001b[90m━━━━━━━━━━━━━━━━━━━━━━━━━━━━━━━━━━━━━━━\u001b[0m \u001b[32m244.3/244.3 MB\u001b[0m \u001b[31m2.4 MB/s\u001b[0m eta \u001b[36m0:00:00\u001b[0m00:01\u001b[0m00:03\u001b[0m\n",
      "\u001b[?25hRequirement already satisfied: protobuf<3.20,>=3.9.2 in /opt/anaconda3/lib/python3.9/site-packages (from tensorflow) (3.19.1)\n",
      "Requirement already satisfied: typing-extensions>=3.6.6 in /opt/anaconda3/lib/python3.9/site-packages (from tensorflow) (4.1.1)\n",
      "Requirement already satisfied: packaging in /opt/anaconda3/lib/python3.9/site-packages (from tensorflow) (21.3)\n",
      "Requirement already satisfied: setuptools in /opt/anaconda3/lib/python3.9/site-packages (from tensorflow) (63.1.0)\n",
      "Collecting google-pasta>=0.1.1\n",
      "  Downloading google_pasta-0.2.0-py3-none-any.whl (57 kB)\n",
      "\u001b[2K     \u001b[90m━━━━━━━━━━━━━━━━━━━━━━━━━━━━━━━━━━━━━━━━\u001b[0m \u001b[32m57.5/57.5 kB\u001b[0m \u001b[31m5.3 MB/s\u001b[0m eta \u001b[36m0:00:00\u001b[0m\n",
      "\u001b[?25hCollecting absl-py>=1.0.0\n",
      "  Downloading absl_py-1.4.0-py3-none-any.whl (126 kB)\n",
      "\u001b[2K     \u001b[90m━━━━━━━━━━━━━━━━━━━━━━━━━━━━━━━━━━━━━━━\u001b[0m \u001b[32m126.5/126.5 kB\u001b[0m \u001b[31m2.3 MB/s\u001b[0m eta \u001b[36m0:00:00\u001b[0ma \u001b[36m0:00:01\u001b[0m\n",
      "\u001b[?25hCollecting opt-einsum>=2.3.2\n",
      "  Downloading opt_einsum-3.3.0-py3-none-any.whl (65 kB)\n",
      "\u001b[2K     \u001b[90m━━━━━━━━━━━━━━━━━━━━━━━━━━━━━━━━━━━━━━━━\u001b[0m \u001b[32m65.5/65.5 kB\u001b[0m \u001b[31m6.1 MB/s\u001b[0m eta \u001b[36m0:00:00\u001b[0m\n",
      "\u001b[?25hRequirement already satisfied: numpy>=1.20 in /opt/anaconda3/lib/python3.9/site-packages (from tensorflow) (1.21.5)\n",
      "Collecting gast<=0.4.0,>=0.2.1\n",
      "  Downloading gast-0.4.0-py3-none-any.whl (9.8 kB)\n",
      "Requirement already satisfied: six>=1.12.0 in /opt/anaconda3/lib/python3.9/site-packages (from tensorflow) (1.16.0)\n",
      "Requirement already satisfied: h5py>=2.9.0 in /opt/anaconda3/lib/python3.9/site-packages (from tensorflow) (3.6.0)\n",
      "Collecting astunparse>=1.6.0\n",
      "  Downloading astunparse-1.6.3-py2.py3-none-any.whl (12 kB)\n",
      "Collecting tensorflow-io-gcs-filesystem>=0.23.1\n",
      "  Downloading tensorflow_io_gcs_filesystem-0.30.0-cp39-cp39-macosx_10_14_x86_64.whl (1.6 MB)\n",
      "\u001b[2K     \u001b[90m━━━━━━━━━━━━━━━━━━━━━━━━━━━━━━━━━━━━━━━━\u001b[0m \u001b[32m1.6/1.6 MB\u001b[0m \u001b[31m3.0 MB/s\u001b[0m eta \u001b[36m0:00:00\u001b[0m00:01\u001b[0m00:01\u001b[0m\n",
      "\u001b[?25hCollecting keras<2.12,>=2.11.0\n",
      "  Downloading keras-2.11.0-py2.py3-none-any.whl (1.7 MB)\n",
      "\u001b[2K     \u001b[90m━━━━━━━━━━━━━━━━━━━━━━━━━━━━━━━━━━━━━━━━\u001b[0m \u001b[32m1.7/1.7 MB\u001b[0m \u001b[31m2.6 MB/s\u001b[0m eta \u001b[36m0:00:00\u001b[0ma \u001b[36m0:00:01\u001b[0m\n",
      "\u001b[?25hCollecting tensorflow-estimator<2.12,>=2.11.0\n",
      "  Downloading tensorflow_estimator-2.11.0-py2.py3-none-any.whl (439 kB)\n",
      "\u001b[2K     \u001b[90m━━━━━━━━━━━━━━━━━━━━━━━━━━━━━━━━━━━━━━━\u001b[0m \u001b[32m439.2/439.2 kB\u001b[0m \u001b[31m2.7 MB/s\u001b[0m eta \u001b[36m0:00:00\u001b[0m00:01\u001b[0m00:01\u001b[0m\n",
      "\u001b[?25hCollecting flatbuffers>=2.0\n",
      "  Downloading flatbuffers-23.1.21-py2.py3-none-any.whl (26 kB)\n",
      "Requirement already satisfied: grpcio<2.0,>=1.24.3 in /opt/anaconda3/lib/python3.9/site-packages (from tensorflow) (1.42.0)\n",
      "Collecting libclang>=13.0.0\n",
      "  Downloading libclang-15.0.6.1-py2.py3-none-macosx_10_9_x86_64.whl (25.0 MB)\n",
      "\u001b[2K     \u001b[90m━━━━━━━━━━━━━━━━━━━━━━━━━━━━━━━━━━━━━━━━\u001b[0m \u001b[32m25.0/25.0 MB\u001b[0m \u001b[31m2.3 MB/s\u001b[0m eta \u001b[36m0:00:00\u001b[0m00:01\u001b[0m00:01\u001b[0m\n",
      "\u001b[?25hRequirement already satisfied: wrapt>=1.11.0 in /opt/anaconda3/lib/python3.9/site-packages (from tensorflow) (1.12.1)\n",
      "Collecting tensorboard<2.12,>=2.11\n",
      "  Downloading tensorboard-2.11.2-py3-none-any.whl (6.0 MB)\n",
      "\u001b[2K     \u001b[90m━━━━━━━━━━━━━━━━━━━━━━━━━━━━━━━━━━━━━━━━\u001b[0m \u001b[32m6.0/6.0 MB\u001b[0m \u001b[31m1.7 MB/s\u001b[0m eta \u001b[36m0:00:00\u001b[0m00:01\u001b[0m00:01\u001b[0m\n",
      "\u001b[?25hCollecting termcolor>=1.1.0\n",
      "  Downloading termcolor-2.2.0-py3-none-any.whl (6.6 kB)\n",
      "Requirement already satisfied: wheel<1.0,>=0.23.0 in /opt/anaconda3/lib/python3.9/site-packages (from astunparse>=1.6.0->tensorflow) (0.37.1)\n",
      "Requirement already satisfied: requests<3,>=2.21.0 in /opt/anaconda3/lib/python3.9/site-packages (from tensorboard<2.12,>=2.11->tensorflow) (2.27.1)\n",
      "Requirement already satisfied: google-auth<3,>=1.6.3 in /opt/anaconda3/lib/python3.9/site-packages (from tensorboard<2.12,>=2.11->tensorflow) (1.33.0)\n",
      "Requirement already satisfied: markdown>=2.6.8 in /opt/anaconda3/lib/python3.9/site-packages (from tensorboard<2.12,>=2.11->tensorflow) (3.3.4)\n",
      "Collecting tensorboard-data-server<0.7.0,>=0.6.0\n",
      "  Downloading tensorboard_data_server-0.6.1-py3-none-macosx_10_9_x86_64.whl (3.5 MB)\n",
      "\u001b[2K     \u001b[90m━━━━━━━━━━━━━━━━━━━━━━━━━━━━━━━━━━━━━━━━\u001b[0m \u001b[32m3.5/3.5 MB\u001b[0m \u001b[31m1.5 MB/s\u001b[0m eta \u001b[36m0:00:00\u001b[0m00:01\u001b[0m00:01\u001b[0m\n",
      "\u001b[?25hCollecting tensorboard-plugin-wit>=1.6.0\n",
      "  Downloading tensorboard_plugin_wit-1.8.1-py3-none-any.whl (781 kB)\n",
      "\u001b[2K     \u001b[90m━━━━━━━━━━━━━━━━━━━━━━━━━━━━━━━━━━━━━━━\u001b[0m \u001b[32m781.3/781.3 kB\u001b[0m \u001b[31m1.5 MB/s\u001b[0m eta \u001b[36m0:00:00\u001b[0ma \u001b[36m0:00:01\u001b[0m\n",
      "\u001b[?25hRequirement already satisfied: werkzeug>=1.0.1 in /opt/anaconda3/lib/python3.9/site-packages (from tensorboard<2.12,>=2.11->tensorflow) (2.0.3)\n",
      "Collecting google-auth-oauthlib<0.5,>=0.4.1\n",
      "  Downloading google_auth_oauthlib-0.4.6-py2.py3-none-any.whl (18 kB)\n",
      "Requirement already satisfied: pyparsing!=3.0.5,>=2.0.2 in /opt/anaconda3/lib/python3.9/site-packages (from packaging->tensorflow) (3.0.4)\n",
      "Requirement already satisfied: rsa<5,>=3.1.4 in /opt/anaconda3/lib/python3.9/site-packages (from google-auth<3,>=1.6.3->tensorboard<2.12,>=2.11->tensorflow) (4.7.2)\n",
      "Requirement already satisfied: pyasn1-modules>=0.2.1 in /opt/anaconda3/lib/python3.9/site-packages (from google-auth<3,>=1.6.3->tensorboard<2.12,>=2.11->tensorflow) (0.2.8)\n",
      "Requirement already satisfied: cachetools<5.0,>=2.0.0 in /opt/anaconda3/lib/python3.9/site-packages (from google-auth<3,>=1.6.3->tensorboard<2.12,>=2.11->tensorflow) (4.2.2)\n",
      "Collecting requests-oauthlib>=0.7.0\n",
      "  Downloading requests_oauthlib-1.3.1-py2.py3-none-any.whl (23 kB)\n",
      "Requirement already satisfied: certifi>=2017.4.17 in /opt/anaconda3/lib/python3.9/site-packages (from requests<3,>=2.21.0->tensorboard<2.12,>=2.11->tensorflow) (2021.10.8)\n",
      "Requirement already satisfied: charset-normalizer~=2.0.0 in /opt/anaconda3/lib/python3.9/site-packages (from requests<3,>=2.21.0->tensorboard<2.12,>=2.11->tensorflow) (2.0.4)\n",
      "Requirement already satisfied: urllib3<1.27,>=1.21.1 in /opt/anaconda3/lib/python3.9/site-packages (from requests<3,>=2.21.0->tensorboard<2.12,>=2.11->tensorflow) (1.26.9)\n",
      "Requirement already satisfied: idna<4,>=2.5 in /opt/anaconda3/lib/python3.9/site-packages (from requests<3,>=2.21.0->tensorboard<2.12,>=2.11->tensorflow) (3.3)\n",
      "Requirement already satisfied: pyasn1<0.5.0,>=0.4.6 in /opt/anaconda3/lib/python3.9/site-packages (from pyasn1-modules>=0.2.1->google-auth<3,>=1.6.3->tensorboard<2.12,>=2.11->tensorflow) (0.4.8)\n",
      "Collecting oauthlib>=3.0.0\n",
      "  Downloading oauthlib-3.2.2-py3-none-any.whl (151 kB)\n",
      "\u001b[2K     \u001b[90m━━━━━━━━━━━━━━━━━━━━━━━━━━━━━━━━━━━━━━━\u001b[0m \u001b[32m151.7/151.7 kB\u001b[0m \u001b[31m1.4 MB/s\u001b[0m eta \u001b[36m0:00:00\u001b[0ma \u001b[36m0:00:01\u001b[0m\n",
      "\u001b[?25hInstalling collected packages: tensorboard-plugin-wit, libclang, flatbuffers, termcolor, tensorflow-io-gcs-filesystem, tensorflow-estimator, tensorboard-data-server, opt-einsum, oauthlib, keras, google-pasta, gast, astunparse, absl-py, requests-oauthlib, google-auth-oauthlib, tensorboard, tensorflow\n",
      "Successfully installed absl-py-1.4.0 astunparse-1.6.3 flatbuffers-23.1.21 gast-0.4.0 google-auth-oauthlib-0.4.6 google-pasta-0.2.0 keras-2.11.0 libclang-15.0.6.1 oauthlib-3.2.2 opt-einsum-3.3.0 requests-oauthlib-1.3.1 tensorboard-2.11.2 tensorboard-data-server-0.6.1 tensorboard-plugin-wit-1.8.1 tensorflow-2.11.0 tensorflow-estimator-2.11.0 tensorflow-io-gcs-filesystem-0.30.0 termcolor-2.2.0\n",
      "Note: you may need to restart the kernel to use updated packages.\n"
     ]
    }
   ],
   "source": [
    "pip install tensorflow"
   ]
  },
  {
   "cell_type": "code",
   "execution_count": 1,
   "id": "bb6bbecd",
   "metadata": {},
   "outputs": [
    {
     "name": "stderr",
     "output_type": "stream",
     "text": [
      "2023-01-23 09:38:32.119864: I tensorflow/core/platform/cpu_feature_guard.cc:193] This TensorFlow binary is optimized with oneAPI Deep Neural Network Library (oneDNN) to use the following CPU instructions in performance-critical operations:  AVX2 FMA\n",
      "To enable them in other operations, rebuild TensorFlow with the appropriate compiler flags.\n"
     ]
    }
   ],
   "source": [
    "# importing needed libraries\n",
    "import pandas as pd\n",
    "import numpy as np\n",
    "import tensorflow as tf"
   ]
  },
  {
   "cell_type": "code",
   "execution_count": 2,
   "id": "1059cd94",
   "metadata": {},
   "outputs": [
    {
     "data": {
      "text/plain": [
       "'2.11.0'"
      ]
     },
     "execution_count": 2,
     "metadata": {},
     "output_type": "execute_result"
    }
   ],
   "source": [
    "tf.__version__"
   ]
  },
  {
   "cell_type": "code",
   "execution_count": 11,
   "id": "3aeadf8b",
   "metadata": {
    "scrolled": true
   },
   "outputs": [
    {
     "data": {
      "text/html": [
       "<div>\n",
       "<style scoped>\n",
       "    .dataframe tbody tr th:only-of-type {\n",
       "        vertical-align: middle;\n",
       "    }\n",
       "\n",
       "    .dataframe tbody tr th {\n",
       "        vertical-align: top;\n",
       "    }\n",
       "\n",
       "    .dataframe thead th {\n",
       "        text-align: right;\n",
       "    }\n",
       "</style>\n",
       "<table border=\"1\" class=\"dataframe\">\n",
       "  <thead>\n",
       "    <tr style=\"text-align: right;\">\n",
       "      <th></th>\n",
       "      <th>Time</th>\n",
       "      <th>V1</th>\n",
       "      <th>V2</th>\n",
       "      <th>V3</th>\n",
       "      <th>V4</th>\n",
       "      <th>V5</th>\n",
       "      <th>V6</th>\n",
       "      <th>V7</th>\n",
       "      <th>V8</th>\n",
       "      <th>V9</th>\n",
       "      <th>...</th>\n",
       "      <th>V21</th>\n",
       "      <th>V22</th>\n",
       "      <th>V23</th>\n",
       "      <th>V24</th>\n",
       "      <th>V25</th>\n",
       "      <th>V26</th>\n",
       "      <th>V27</th>\n",
       "      <th>V28</th>\n",
       "      <th>Amount</th>\n",
       "      <th>Class</th>\n",
       "    </tr>\n",
       "  </thead>\n",
       "  <tbody>\n",
       "    <tr>\n",
       "      <th>0</th>\n",
       "      <td>0.0</td>\n",
       "      <td>-1.359807</td>\n",
       "      <td>-0.072781</td>\n",
       "      <td>2.536347</td>\n",
       "      <td>1.378155</td>\n",
       "      <td>-0.338321</td>\n",
       "      <td>0.462388</td>\n",
       "      <td>0.239599</td>\n",
       "      <td>0.098698</td>\n",
       "      <td>0.363787</td>\n",
       "      <td>...</td>\n",
       "      <td>-0.018307</td>\n",
       "      <td>0.277838</td>\n",
       "      <td>-0.110474</td>\n",
       "      <td>0.066928</td>\n",
       "      <td>0.128539</td>\n",
       "      <td>-0.189115</td>\n",
       "      <td>0.133558</td>\n",
       "      <td>-0.021053</td>\n",
       "      <td>149.62</td>\n",
       "      <td>0</td>\n",
       "    </tr>\n",
       "    <tr>\n",
       "      <th>1</th>\n",
       "      <td>0.0</td>\n",
       "      <td>1.191857</td>\n",
       "      <td>0.266151</td>\n",
       "      <td>0.166480</td>\n",
       "      <td>0.448154</td>\n",
       "      <td>0.060018</td>\n",
       "      <td>-0.082361</td>\n",
       "      <td>-0.078803</td>\n",
       "      <td>0.085102</td>\n",
       "      <td>-0.255425</td>\n",
       "      <td>...</td>\n",
       "      <td>-0.225775</td>\n",
       "      <td>-0.638672</td>\n",
       "      <td>0.101288</td>\n",
       "      <td>-0.339846</td>\n",
       "      <td>0.167170</td>\n",
       "      <td>0.125895</td>\n",
       "      <td>-0.008983</td>\n",
       "      <td>0.014724</td>\n",
       "      <td>2.69</td>\n",
       "      <td>0</td>\n",
       "    </tr>\n",
       "    <tr>\n",
       "      <th>2</th>\n",
       "      <td>1.0</td>\n",
       "      <td>-1.358354</td>\n",
       "      <td>-1.340163</td>\n",
       "      <td>1.773209</td>\n",
       "      <td>0.379780</td>\n",
       "      <td>-0.503198</td>\n",
       "      <td>1.800499</td>\n",
       "      <td>0.791461</td>\n",
       "      <td>0.247676</td>\n",
       "      <td>-1.514654</td>\n",
       "      <td>...</td>\n",
       "      <td>0.247998</td>\n",
       "      <td>0.771679</td>\n",
       "      <td>0.909412</td>\n",
       "      <td>-0.689281</td>\n",
       "      <td>-0.327642</td>\n",
       "      <td>-0.139097</td>\n",
       "      <td>-0.055353</td>\n",
       "      <td>-0.059752</td>\n",
       "      <td>378.66</td>\n",
       "      <td>0</td>\n",
       "    </tr>\n",
       "    <tr>\n",
       "      <th>3</th>\n",
       "      <td>1.0</td>\n",
       "      <td>-0.966272</td>\n",
       "      <td>-0.185226</td>\n",
       "      <td>1.792993</td>\n",
       "      <td>-0.863291</td>\n",
       "      <td>-0.010309</td>\n",
       "      <td>1.247203</td>\n",
       "      <td>0.237609</td>\n",
       "      <td>0.377436</td>\n",
       "      <td>-1.387024</td>\n",
       "      <td>...</td>\n",
       "      <td>-0.108300</td>\n",
       "      <td>0.005274</td>\n",
       "      <td>-0.190321</td>\n",
       "      <td>-1.175575</td>\n",
       "      <td>0.647376</td>\n",
       "      <td>-0.221929</td>\n",
       "      <td>0.062723</td>\n",
       "      <td>0.061458</td>\n",
       "      <td>123.50</td>\n",
       "      <td>0</td>\n",
       "    </tr>\n",
       "    <tr>\n",
       "      <th>4</th>\n",
       "      <td>2.0</td>\n",
       "      <td>-1.158233</td>\n",
       "      <td>0.877737</td>\n",
       "      <td>1.548718</td>\n",
       "      <td>0.403034</td>\n",
       "      <td>-0.407193</td>\n",
       "      <td>0.095921</td>\n",
       "      <td>0.592941</td>\n",
       "      <td>-0.270533</td>\n",
       "      <td>0.817739</td>\n",
       "      <td>...</td>\n",
       "      <td>-0.009431</td>\n",
       "      <td>0.798278</td>\n",
       "      <td>-0.137458</td>\n",
       "      <td>0.141267</td>\n",
       "      <td>-0.206010</td>\n",
       "      <td>0.502292</td>\n",
       "      <td>0.219422</td>\n",
       "      <td>0.215153</td>\n",
       "      <td>69.99</td>\n",
       "      <td>0</td>\n",
       "    </tr>\n",
       "  </tbody>\n",
       "</table>\n",
       "<p>5 rows × 31 columns</p>\n",
       "</div>"
      ],
      "text/plain": [
       "   Time        V1        V2        V3        V4        V5        V6        V7  \\\n",
       "0   0.0 -1.359807 -0.072781  2.536347  1.378155 -0.338321  0.462388  0.239599   \n",
       "1   0.0  1.191857  0.266151  0.166480  0.448154  0.060018 -0.082361 -0.078803   \n",
       "2   1.0 -1.358354 -1.340163  1.773209  0.379780 -0.503198  1.800499  0.791461   \n",
       "3   1.0 -0.966272 -0.185226  1.792993 -0.863291 -0.010309  1.247203  0.237609   \n",
       "4   2.0 -1.158233  0.877737  1.548718  0.403034 -0.407193  0.095921  0.592941   \n",
       "\n",
       "         V8        V9  ...       V21       V22       V23       V24       V25  \\\n",
       "0  0.098698  0.363787  ... -0.018307  0.277838 -0.110474  0.066928  0.128539   \n",
       "1  0.085102 -0.255425  ... -0.225775 -0.638672  0.101288 -0.339846  0.167170   \n",
       "2  0.247676 -1.514654  ...  0.247998  0.771679  0.909412 -0.689281 -0.327642   \n",
       "3  0.377436 -1.387024  ... -0.108300  0.005274 -0.190321 -1.175575  0.647376   \n",
       "4 -0.270533  0.817739  ... -0.009431  0.798278 -0.137458  0.141267 -0.206010   \n",
       "\n",
       "        V26       V27       V28  Amount  Class  \n",
       "0 -0.189115  0.133558 -0.021053  149.62      0  \n",
       "1  0.125895 -0.008983  0.014724    2.69      0  \n",
       "2 -0.139097 -0.055353 -0.059752  378.66      0  \n",
       "3 -0.221929  0.062723  0.061458  123.50      0  \n",
       "4  0.502292  0.219422  0.215153   69.99      0  \n",
       "\n",
       "[5 rows x 31 columns]"
      ]
     },
     "execution_count": 11,
     "metadata": {},
     "output_type": "execute_result"
    }
   ],
   "source": [
    "df = pd.read_csv('creditcard.csv')\n",
    "df.head()"
   ]
  },
  {
   "cell_type": "code",
   "execution_count": 12,
   "id": "7dcd327f",
   "metadata": {},
   "outputs": [
    {
     "data": {
      "text/plain": [
       "(284807, 31)"
      ]
     },
     "execution_count": 12,
     "metadata": {},
     "output_type": "execute_result"
    }
   ],
   "source": [
    "df.shape"
   ]
  },
  {
   "cell_type": "code",
   "execution_count": 8,
   "id": "242d9ce0",
   "metadata": {},
   "outputs": [
    {
     "data": {
      "text/plain": [
       "Time      0\n",
       "V1        0\n",
       "V2        0\n",
       "V3        0\n",
       "V4        0\n",
       "V5        0\n",
       "V6        0\n",
       "V7        0\n",
       "V8        0\n",
       "V9        0\n",
       "V10       0\n",
       "V11       0\n",
       "V12       0\n",
       "V13       0\n",
       "V14       0\n",
       "V15       0\n",
       "V16       0\n",
       "V17       0\n",
       "V18       0\n",
       "V19       0\n",
       "V20       0\n",
       "V21       0\n",
       "V22       0\n",
       "V23       0\n",
       "V24       0\n",
       "V25       0\n",
       "V26       0\n",
       "V27       0\n",
       "V28       0\n",
       "Amount    0\n",
       "Class     0\n",
       "dtype: int64"
      ]
     },
     "execution_count": 8,
     "metadata": {},
     "output_type": "execute_result"
    }
   ],
   "source": [
    "df.isnull().sum()"
   ]
  },
  {
   "cell_type": "code",
   "execution_count": 14,
   "id": "19a0964e",
   "metadata": {},
   "outputs": [],
   "source": [
    "X = df.iloc[:, :-1].values\n",
    "y = df.iloc[:, -1].values"
   ]
  },
  {
   "cell_type": "code",
   "execution_count": 22,
   "id": "f24a588a",
   "metadata": {},
   "outputs": [
    {
     "name": "stderr",
     "output_type": "stream",
     "text": [
      "2023-01-23 10:41:13.818486: I tensorflow/core/platform/cpu_feature_guard.cc:193] This TensorFlow binary is optimized with oneAPI Deep Neural Network Library (oneDNN) to use the following CPU instructions in performance-critical operations:  AVX2 FMA\n",
      "To enable them in other operations, rebuild TensorFlow with the appropriate compiler flags.\n"
     ]
    }
   ],
   "source": [
    "# split to train and test \n",
    "from sklearn.model_selection import train_test_split\n",
    "xtrain, xtest, ytrain, ytest = train_test_split(X, y, test_size = 0.3, random_state = 1, stratify = y)\n",
    "\n",
    "# scale variables\n",
    "from sklearn.preprocessing import StandardScaler\n",
    "sc = StandardScaler()\n",
    "xtrain = sc.fit_transform(xtrain)\n",
    "xtest = sc.fit_transform(xtest)\n",
    "\n",
    "# create a neural network\n",
    "# initiate a model\n",
    "ann = tf.keras.models.Sequential()\n",
    "# add inner layer 1\n",
    "ann.add(tf.keras.layers.Dense(units = 6, activation = 'relu'))\n",
    "# add inner layer 2\n",
    "ann.add(tf.keras.layers.Dense(units = 6, activation = 'relu'))\n",
    "# output layer\n",
    "ann.add(tf.keras.layers.Dense(units = 1, activation = 'sigmoid'))\n",
    "\n",
    "# compile neural network\n",
    "ann.compile(optimizer = 'adam', loss = 'binary_crossentropy', metrics = ['accuracy'])"
   ]
  },
  {
   "cell_type": "code",
   "execution_count": 24,
   "id": "48bad480",
   "metadata": {},
   "outputs": [
    {
     "name": "stdout",
     "output_type": "stream",
     "text": [
      "Epoch 1/100\n",
      "6231/6231 [==============================] - 10s 2ms/step - loss: 0.0269 - accuracy: 0.9960\n",
      "Epoch 2/100\n",
      "6231/6231 [==============================] - 10s 2ms/step - loss: 0.0037 - accuracy: 0.9993\n",
      "Epoch 3/100\n",
      "6231/6231 [==============================] - 10s 2ms/step - loss: 0.0033 - accuracy: 0.9994\n",
      "Epoch 4/100\n",
      "6231/6231 [==============================] - 10s 2ms/step - loss: 0.0032 - accuracy: 0.9993\n",
      "Epoch 5/100\n",
      "6231/6231 [==============================] - 10s 2ms/step - loss: 0.0030 - accuracy: 0.9993\n",
      "Epoch 6/100\n",
      "6231/6231 [==============================] - 10s 2ms/step - loss: 0.0028 - accuracy: 0.9994\n",
      "Epoch 7/100\n",
      "6231/6231 [==============================] - 10s 2ms/step - loss: 0.0028 - accuracy: 0.9994\n",
      "Epoch 8/100\n",
      "6231/6231 [==============================] - 10s 2ms/step - loss: 0.0028 - accuracy: 0.9994\n",
      "Epoch 9/100\n",
      "6231/6231 [==============================] - 10s 2ms/step - loss: 0.0027 - accuracy: 0.9994\n",
      "Epoch 10/100\n",
      "6231/6231 [==============================] - 10s 2ms/step - loss: 0.0026 - accuracy: 0.9994\n",
      "Epoch 11/100\n",
      "6231/6231 [==============================] - 10s 2ms/step - loss: 0.0026 - accuracy: 0.9994\n",
      "Epoch 12/100\n",
      "6231/6231 [==============================] - 10s 2ms/step - loss: 0.0026 - accuracy: 0.9994\n",
      "Epoch 13/100\n",
      "6231/6231 [==============================] - 10s 2ms/step - loss: 0.0025 - accuracy: 0.9995\n",
      "Epoch 14/100\n",
      "6231/6231 [==============================] - 10s 2ms/step - loss: 0.0025 - accuracy: 0.9994\n",
      "Epoch 15/100\n",
      "6231/6231 [==============================] - 10s 2ms/step - loss: 0.0025 - accuracy: 0.9995\n",
      "Epoch 16/100\n",
      "6231/6231 [==============================] - 10s 2ms/step - loss: 0.0025 - accuracy: 0.9994\n",
      "Epoch 17/100\n",
      "6231/6231 [==============================] - 10s 2ms/step - loss: 0.0024 - accuracy: 0.9995\n",
      "Epoch 18/100\n",
      "6231/6231 [==============================] - 10s 2ms/step - loss: 0.0025 - accuracy: 0.9994\n",
      "Epoch 19/100\n",
      "6231/6231 [==============================] - 10s 2ms/step - loss: 0.0024 - accuracy: 0.9995\n",
      "Epoch 20/100\n",
      "6231/6231 [==============================] - 10s 2ms/step - loss: 0.0024 - accuracy: 0.9995\n",
      "Epoch 21/100\n",
      "6231/6231 [==============================] - 10s 2ms/step - loss: 0.0024 - accuracy: 0.9994\n",
      "Epoch 22/100\n",
      "6231/6231 [==============================] - 10s 2ms/step - loss: 0.0024 - accuracy: 0.9995\n",
      "Epoch 23/100\n",
      "6231/6231 [==============================] - 10s 2ms/step - loss: 0.0024 - accuracy: 0.9994\n",
      "Epoch 24/100\n",
      "6231/6231 [==============================] - 10s 2ms/step - loss: 0.0024 - accuracy: 0.9994\n",
      "Epoch 25/100\n",
      "6231/6231 [==============================] - 10s 2ms/step - loss: 0.0024 - accuracy: 0.9995\n",
      "Epoch 26/100\n",
      "6231/6231 [==============================] - 10s 2ms/step - loss: 0.0024 - accuracy: 0.9994\n",
      "Epoch 27/100\n",
      "6231/6231 [==============================] - 10s 2ms/step - loss: 0.0024 - accuracy: 0.9994\n",
      "Epoch 28/100\n",
      "6231/6231 [==============================] - 10s 2ms/step - loss: 0.0023 - accuracy: 0.9995\n",
      "Epoch 29/100\n",
      "6231/6231 [==============================] - 10s 2ms/step - loss: 0.0023 - accuracy: 0.9995\n",
      "Epoch 30/100\n",
      "6231/6231 [==============================] - 10s 2ms/step - loss: 0.0024 - accuracy: 0.9994\n",
      "Epoch 31/100\n",
      "6231/6231 [==============================] - 10s 2ms/step - loss: 0.0023 - accuracy: 0.9995\n",
      "Epoch 32/100\n",
      "6231/6231 [==============================] - 10s 2ms/step - loss: 0.0023 - accuracy: 0.9995\n",
      "Epoch 33/100\n",
      "6231/6231 [==============================] - 10s 2ms/step - loss: 0.0023 - accuracy: 0.9995\n",
      "Epoch 34/100\n",
      "6231/6231 [==============================] - 10s 2ms/step - loss: 0.0023 - accuracy: 0.9994\n",
      "Epoch 35/100\n",
      "6231/6231 [==============================] - 10s 2ms/step - loss: 0.0023 - accuracy: 0.9995\n",
      "Epoch 36/100\n",
      "6231/6231 [==============================] - 11s 2ms/step - loss: 0.0023 - accuracy: 0.9994\n",
      "Epoch 37/100\n",
      "6231/6231 [==============================] - 10s 2ms/step - loss: 0.0023 - accuracy: 0.9995\n",
      "Epoch 38/100\n",
      "6231/6231 [==============================] - 11s 2ms/step - loss: 0.0022 - accuracy: 0.9994\n",
      "Epoch 39/100\n",
      "6231/6231 [==============================] - 10s 2ms/step - loss: 0.0023 - accuracy: 0.9995\n",
      "Epoch 40/100\n",
      "6231/6231 [==============================] - 10s 2ms/step - loss: 0.0023 - accuracy: 0.9995\n",
      "Epoch 41/100\n",
      "6231/6231 [==============================] - 10s 2ms/step - loss: 0.0023 - accuracy: 0.9995\n",
      "Epoch 42/100\n",
      "6231/6231 [==============================] - 11s 2ms/step - loss: 0.0022 - accuracy: 0.9995\n",
      "Epoch 43/100\n",
      "6231/6231 [==============================] - 10s 2ms/step - loss: 0.0022 - accuracy: 0.9995\n",
      "Epoch 44/100\n",
      "6231/6231 [==============================] - 9s 1ms/step - loss: 0.0023 - accuracy: 0.9995\n",
      "Epoch 45/100\n",
      "6231/6231 [==============================] - 9s 1ms/step - loss: 0.0023 - accuracy: 0.9995\n",
      "Epoch 46/100\n",
      "6231/6231 [==============================] - 9s 1ms/step - loss: 0.0022 - accuracy: 0.9995\n",
      "Epoch 47/100\n",
      "6231/6231 [==============================] - 9s 1ms/step - loss: 0.0022 - accuracy: 0.9995\n",
      "Epoch 48/100\n",
      "6231/6231 [==============================] - 9s 1ms/step - loss: 0.0023 - accuracy: 0.9995\n",
      "Epoch 49/100\n",
      "6231/6231 [==============================] - 9s 1ms/step - loss: 0.0023 - accuracy: 0.9995\n",
      "Epoch 50/100\n",
      "6231/6231 [==============================] - 9s 1ms/step - loss: 0.0022 - accuracy: 0.9995\n",
      "Epoch 51/100\n",
      "6231/6231 [==============================] - 9s 1ms/step - loss: 0.0022 - accuracy: 0.9995\n",
      "Epoch 52/100\n",
      "6231/6231 [==============================] - 9s 1ms/step - loss: 0.0023 - accuracy: 0.9995\n",
      "Epoch 53/100\n",
      "6231/6231 [==============================] - 9s 1ms/step - loss: 0.0022 - accuracy: 0.9995\n",
      "Epoch 54/100\n",
      "6231/6231 [==============================] - 9s 1ms/step - loss: 0.0022 - accuracy: 0.9995\n",
      "Epoch 55/100\n",
      "6231/6231 [==============================] - 9s 1ms/step - loss: 0.0022 - accuracy: 0.9995\n",
      "Epoch 56/100\n",
      "6231/6231 [==============================] - 9s 1ms/step - loss: 0.0022 - accuracy: 0.9995\n",
      "Epoch 57/100\n",
      "6231/6231 [==============================] - 9s 1ms/step - loss: 0.0022 - accuracy: 0.9995\n",
      "Epoch 58/100\n",
      "6231/6231 [==============================] - 9s 1ms/step - loss: 0.0022 - accuracy: 0.9995\n",
      "Epoch 59/100\n",
      "6231/6231 [==============================] - 9s 1ms/step - loss: 0.0022 - accuracy: 0.9995\n",
      "Epoch 60/100\n",
      "6231/6231 [==============================] - 9s 1ms/step - loss: 0.0021 - accuracy: 0.9995\n",
      "Epoch 61/100\n",
      "6231/6231 [==============================] - 9s 1ms/step - loss: 0.0022 - accuracy: 0.9995\n",
      "Epoch 62/100\n",
      "6231/6231 [==============================] - 9s 1ms/step - loss: 0.0021 - accuracy: 0.9995\n",
      "Epoch 63/100\n",
      "6231/6231 [==============================] - 9s 1ms/step - loss: 0.0021 - accuracy: 0.9995\n",
      "Epoch 64/100\n",
      "6231/6231 [==============================] - 11s 2ms/step - loss: 0.0022 - accuracy: 0.9995\n",
      "Epoch 65/100\n",
      "6231/6231 [==============================] - 9s 1ms/step - loss: 0.0022 - accuracy: 0.9995\n",
      "Epoch 66/100\n",
      "6231/6231 [==============================] - 9s 1ms/step - loss: 0.0022 - accuracy: 0.9995\n",
      "Epoch 67/100\n",
      "6231/6231 [==============================] - 12s 2ms/step - loss: 0.0022 - accuracy: 0.9995\n",
      "Epoch 68/100\n",
      "6231/6231 [==============================] - 11s 2ms/step - loss: 0.0022 - accuracy: 0.9995\n",
      "Epoch 69/100\n",
      "6231/6231 [==============================] - 13s 2ms/step - loss: 0.0022 - accuracy: 0.9995\n",
      "Epoch 70/100\n",
      "6231/6231 [==============================] - 11s 2ms/step - loss: 0.0021 - accuracy: 0.9995\n",
      "Epoch 71/100\n",
      "6231/6231 [==============================] - 14s 2ms/step - loss: 0.0021 - accuracy: 0.9995\n",
      "Epoch 72/100\n",
      "6231/6231 [==============================] - 14s 2ms/step - loss: 0.0022 - accuracy: 0.9995\n",
      "Epoch 73/100\n",
      "6231/6231 [==============================] - 13s 2ms/step - loss: 0.0022 - accuracy: 0.9995\n",
      "Epoch 74/100\n",
      "6231/6231 [==============================] - 10s 2ms/step - loss: 0.0021 - accuracy: 0.9995\n",
      "Epoch 75/100\n",
      "6231/6231 [==============================] - 10s 2ms/step - loss: 0.0021 - accuracy: 0.9995\n",
      "Epoch 76/100\n",
      "6231/6231 [==============================] - 13s 2ms/step - loss: 0.0021 - accuracy: 0.9995\n",
      "Epoch 77/100\n",
      "6231/6231 [==============================] - 12s 2ms/step - loss: 0.0022 - accuracy: 0.9995\n",
      "Epoch 78/100\n",
      "6231/6231 [==============================] - 11s 2ms/step - loss: 0.0021 - accuracy: 0.9995\n",
      "Epoch 79/100\n"
     ]
    },
    {
     "name": "stdout",
     "output_type": "stream",
     "text": [
      "6231/6231 [==============================] - 14s 2ms/step - loss: 0.0021 - accuracy: 0.9995\n",
      "Epoch 80/100\n",
      "6231/6231 [==============================] - 12s 2ms/step - loss: 0.0021 - accuracy: 0.9995\n",
      "Epoch 81/100\n",
      "6231/6231 [==============================] - 12s 2ms/step - loss: 0.0020 - accuracy: 0.9995\n",
      "Epoch 82/100\n",
      "6231/6231 [==============================] - 12s 2ms/step - loss: 0.0021 - accuracy: 0.9995\n",
      "Epoch 83/100\n",
      "6231/6231 [==============================] - 10s 2ms/step - loss: 0.0021 - accuracy: 0.9995\n",
      "Epoch 84/100\n",
      "6231/6231 [==============================] - 10s 2ms/step - loss: 0.0021 - accuracy: 0.9995\n",
      "Epoch 85/100\n",
      "6231/6231 [==============================] - 11s 2ms/step - loss: 0.0021 - accuracy: 0.9995\n",
      "Epoch 86/100\n",
      "6231/6231 [==============================] - 10s 2ms/step - loss: 0.0021 - accuracy: 0.9995\n",
      "Epoch 87/100\n",
      "6231/6231 [==============================] - 10s 2ms/step - loss: 0.0021 - accuracy: 0.9995\n",
      "Epoch 88/100\n",
      "6231/6231 [==============================] - 10s 2ms/step - loss: 0.0021 - accuracy: 0.9995\n",
      "Epoch 89/100\n",
      "6231/6231 [==============================] - 10s 2ms/step - loss: 0.0021 - accuracy: 0.9995\n",
      "Epoch 90/100\n",
      "6231/6231 [==============================] - 10s 2ms/step - loss: 0.0021 - accuracy: 0.9995\n",
      "Epoch 91/100\n",
      "6231/6231 [==============================] - 10s 2ms/step - loss: 0.0020 - accuracy: 0.9995\n",
      "Epoch 92/100\n",
      "6231/6231 [==============================] - 11s 2ms/step - loss: 0.0021 - accuracy: 0.9995\n",
      "Epoch 93/100\n",
      "6231/6231 [==============================] - 12s 2ms/step - loss: 0.0021 - accuracy: 0.9995\n",
      "Epoch 94/100\n",
      "6231/6231 [==============================] - 11s 2ms/step - loss: 0.0020 - accuracy: 0.9995\n",
      "Epoch 95/100\n",
      "6231/6231 [==============================] - 9s 1ms/step - loss: 0.0020 - accuracy: 0.9995\n",
      "Epoch 96/100\n",
      "6231/6231 [==============================] - 12s 2ms/step - loss: 0.0021 - accuracy: 0.9995\n",
      "Epoch 97/100\n",
      "6231/6231 [==============================] - 14s 2ms/step - loss: 0.0020 - accuracy: 0.9995\n",
      "Epoch 98/100\n",
      "6231/6231 [==============================] - 10s 2ms/step - loss: 0.0021 - accuracy: 0.9995\n",
      "Epoch 99/100\n",
      "6231/6231 [==============================] - 10s 2ms/step - loss: 0.0020 - accuracy: 0.9995\n",
      "Epoch 100/100\n",
      "6231/6231 [==============================] - 10s 2ms/step - loss: 0.0020 - accuracy: 0.9995\n"
     ]
    },
    {
     "data": {
      "text/plain": [
       "<keras.callbacks.History at 0x7fc5e0bcb850>"
      ]
     },
     "execution_count": 24,
     "metadata": {},
     "output_type": "execute_result"
    }
   ],
   "source": [
    "# train model\n",
    "ann.fit(xtrain, ytrain, batch_size = 32, epochs = 100)"
   ]
  },
  {
   "cell_type": "code",
   "execution_count": 32,
   "id": "a8e17612",
   "metadata": {},
   "outputs": [
    {
     "name": "stdout",
     "output_type": "stream",
     "text": [
      "2671/2671 [==============================] - 3s 1ms/step\n",
      "[[0 0]\n",
      " [0 0]\n",
      " [0 0]\n",
      " ...\n",
      " [0 0]\n",
      " [0 0]\n",
      " [0 0]]\n"
     ]
    }
   ],
   "source": [
    "# predicting test set\n",
    "ypred = ann.predict(xtest)\n",
    "ypred = (ypred > 0.5)\n",
    "# comparing predicted values and actual values\n",
    "print(np.concatenate((ypred.reshape(len(ypred),1), ytest.values.reshape(len(ytest),1)),1))"
   ]
  },
  {
   "cell_type": "code",
   "execution_count": 34,
   "id": "497a0b91",
   "metadata": {},
   "outputs": [
    {
     "data": {
      "text/plain": [
       "(85443,)"
      ]
     },
     "execution_count": 34,
     "metadata": {},
     "output_type": "execute_result"
    }
   ],
   "source": [
    "ytest.shape"
   ]
  },
  {
   "cell_type": "code",
   "execution_count": 35,
   "id": "e4e45b62",
   "metadata": {},
   "outputs": [
    {
     "name": "stdout",
     "output_type": "stream",
     "text": [
      "[[85276    19]\n",
      " [   35   113]]\n"
     ]
    },
    {
     "data": {
      "text/plain": [
       "0.9993679997191109"
      ]
     },
     "execution_count": 35,
     "metadata": {},
     "output_type": "execute_result"
    }
   ],
   "source": [
    "from sklearn.metrics import confusion_matrix, accuracy_score, classification_report\n",
    "cm = confusion_matrix(ytest, ypred)\n",
    "print(cm)\n",
    "accuracy_score(ytest, ypred)"
   ]
  },
  {
   "cell_type": "code",
   "execution_count": 36,
   "id": "e1f45c3b",
   "metadata": {},
   "outputs": [
    {
     "name": "stdout",
     "output_type": "stream",
     "text": [
      "              precision    recall  f1-score   support\n",
      "\n",
      "           0       1.00      1.00      1.00     85295\n",
      "           1       0.86      0.76      0.81       148\n",
      "\n",
      "    accuracy                           1.00     85443\n",
      "   macro avg       0.93      0.88      0.90     85443\n",
      "weighted avg       1.00      1.00      1.00     85443\n",
      "\n"
     ]
    }
   ],
   "source": [
    "print(classification_report(ytest, ypred))"
   ]
  },
  {
   "cell_type": "code",
   "execution_count": null,
   "id": "cc18b013",
   "metadata": {},
   "outputs": [],
   "source": []
  }
 ],
 "metadata": {
  "kernelspec": {
   "display_name": "Python 3 (ipykernel)",
   "language": "python",
   "name": "python3"
  },
  "language_info": {
   "codemirror_mode": {
    "name": "ipython",
    "version": 3
   },
   "file_extension": ".py",
   "mimetype": "text/x-python",
   "name": "python",
   "nbconvert_exporter": "python",
   "pygments_lexer": "ipython3",
   "version": "3.9.12"
  }
 },
 "nbformat": 4,
 "nbformat_minor": 5
}
